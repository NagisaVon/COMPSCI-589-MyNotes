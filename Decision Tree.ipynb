{
 "cells": [
  {
   "cell_type": "markdown",
   "metadata": {},
   "source": [
    "# Decision Tree \n",
    "\n",
    "### 2.1 \n",
    "\n",
    "> normalize 是否假定了不同attribute对结果的影响同样大？\n",
    "基本上就是在用横纵线不断细分数据\n",
    "a divide and conquer strategy \n",
    "\n",
    "the overfitting problem ，使得模型在当然数据下可以完美运行，但无法推广至更多数据\n",
    "\n",
    "HW1 Decision Tree\n",
    "HW3 Random Forest 一定程度上解决overfitting 的问题\n",
    "\n",
    "> 如何处理新数据？把他们加入数据集中么？\n",
    "batch training vs online training \n",
    "但显然新加入的data应当是已经有标签的data\n",
    "\n",
    "> 如果当前这个决策可以将数据分得更加homogeneous 但却不利于下一步的细分?\n",
    "> 就是说如何知道最好的细分顺序？\n",
    "\n",
    "data entropy -> lower says more homogeneous \n",
    "\n",
    "\n",
    "\n",
    "\n",
    "\n",
    "\n"
   ]
  }
 ],
 "metadata": {
  "language_info": {
   "name": "python"
  },
  "orig_nbformat": 4
 },
 "nbformat": 4,
 "nbformat_minor": 2
}
