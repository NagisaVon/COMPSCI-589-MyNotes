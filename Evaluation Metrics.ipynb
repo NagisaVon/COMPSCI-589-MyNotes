{
 "cells": [
  {
   "cell_type": "markdown",
   "metadata": {},
   "source": [
    "# Evaluation Metric\n",
    "## Feb 24\n",
    "\n",
    "### Precision and Recall\n",
    "\n",
    "## Confusion Matrix \n",
    "\n",
    "Precision = $\\frac{TP}{TP + FP}$\n",
    "\n",
    "Recall = $\\frac{TP}{TP +FN}$\n",
    "\n",
    "### F-Score\n",
    "\n",
    "$F_{\\beta}(f) = (1+\\beta^2)\\frac{precision(f)recall(f)}{\\beta^{2}precision(f)+recall(f)}$\n",
    "\n",
    "$\\beta$ means recall is \n",
    "$\\beta$ times more important than precision \n",
    "usually \n",
    "$\\beta = 1$ \n",
    "\n",
    "$Fscore = \\frac{2TP}{2TP + FP + FN}$\n",
    "\n",
    "### ROC Curve\n",
    "\n",
    "to avoid churn(a customer want to leave)\n",
    "False Nagetive is the worst case\n",
    "\n",
    "> What should be the threshold to decide churn or not \n",
    "\n",
    "Low threshold: send too much gifts catches all TP, but missing TN\n",
    "High threshold: send too little gifts catches all TN, but missing TP \n",
    "\n",
    "\n",
    "True Positive Rate\n",
    "$TPR(f) = \\frac{TP}{TP + FN}$\n",
    "\n",
    "\n",
    "\n",
    "\n",
    "\n",
    "\n",
    "\n",
    "\n",
    "\n",
    "\n",
    "\n",
    "\n",
    "\n",
    "\n",
    "\n",
    "\n"
   ]
  },
  {
   "cell_type": "markdown",
   "metadata": {},
   "source": []
  }
 ],
 "metadata": {
  "language_info": {
   "name": "python"
  },
  "orig_nbformat": 4
 },
 "nbformat": 4,
 "nbformat_minor": 2
}
