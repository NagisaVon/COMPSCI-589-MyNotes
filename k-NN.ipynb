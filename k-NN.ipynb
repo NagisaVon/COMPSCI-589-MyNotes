{
 "cells": [
  {
   "cell_type": "markdown",
   "metadata": {},
   "source": [
    "# k-NN\n",
    "\n",
    "### 1.27\n",
    "\n",
    "对于图上的每个点，找出离他最近的k个邻居，投票决定 \n",
    "> 如果投票有weight，而不是直接数票数那是啥算法？\n",
    "> normalization 单位啥的？One Hot Encoding \n",
    "> （是banana的话那一列是1 其他列都是0）\n",
    "> 如果不是数值 而是那种 True/False 的数据咋办\n",
    "\n",
    "具体怎么实现查找k-NN？ k-d tree？QuadTree?\n",
    ">或者直接sort拿前k个\n",
    "\n",
    "attribute不能太多 20个左右？ 因为太多距离被稀释\n",
    "\n",
    "good for classification \n",
    "can’t give insight about the data\n"
   ]
  }
 ],
 "metadata": {
  "language_info": {
   "name": "python"
  },
  "orig_nbformat": 4
 },
 "nbformat": 4,
 "nbformat_minor": 2
}
